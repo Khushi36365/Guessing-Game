{
  "nbformat": 4,
  "nbformat_minor": 0,
  "metadata": {
    "colab": {
      "provenance": []
    },
    "kernelspec": {
      "name": "python3",
      "display_name": "Python 3"
    },
    "language_info": {
      "name": "python"
    }
  },
  "cells": [
    {
      "cell_type": "markdown",
      "source": [
        "Game Instructions:\n",
        "\n",
        "You have to guess a number. You only have a few chances. If you guess the number in any one of those chances, you win. If you fail to guess the correct number within the allowed attempts, you lose the game."
      ],
      "metadata": {
        "id": "APep-VAij4jf"
      }
    },
    {
      "cell_type": "markdown",
      "source": [
        "* The program uses predefined values for the game."
      ],
      "metadata": {
        "id": "fQIpe0NPnbVS"
      }
    },
    {
      "cell_type": "code",
      "execution_count": 10,
      "metadata": {
        "colab": {
          "base_uri": "https://localhost:8080/"
        },
        "id": "l7d4NYNBjcZy",
        "outputId": "23e6a2a0-d8fc-4932-c73e-e71e73dee345"
      },
      "outputs": [
        {
          "output_type": "stream",
          "name": "stdout",
          "text": [
            "Guess: 5\n",
            "Guess: 6\n",
            "Guess: 2\n",
            "Guess: 6\n",
            "Guess: 10\n",
            "You Won!\n"
          ]
        }
      ],
      "source": [
        "secret_no_for_guessing = 10\n",
        "counting_guess = 1\n",
        "limit_for_guessing = 5\n",
        "while counting_guess <= limit_for_guessing:\n",
        "  guess = int(input('Guess: '))\n",
        "  counting_guess += 1\n",
        "  if guess == secret_no_for_guessing:\n",
        "    print('You Won!')\n",
        "    break\n",
        "else:\n",
        "  print('Sorry, You Lose!')"
      ]
    },
    {
      "cell_type": "markdown",
      "source": [
        "* The program allows you to set your own criteria such as: how many guesses a person can make and the secret number to guess."
      ],
      "metadata": {
        "id": "own2ig6gnlWl"
      }
    },
    {
      "cell_type": "code",
      "source": [
        "secret_no_for_guessing = int(input('Enter the Secret Number: '))\n",
        "counting_guess = 1\n",
        "limit_for_guessing = int(input('Enter the guessing limit: '))\n",
        "while counting_guess <= limit_for_guessing:\n",
        "  guess = int(input('Guess: '))\n",
        "  counting_guess += 1\n",
        "  if guess == secret_no_for_guessing:\n",
        "    print('You Won!')\n",
        "    break\n",
        "else:\n",
        "  print('Sorry, You Lose!')"
      ],
      "metadata": {
        "colab": {
          "base_uri": "https://localhost:8080/"
        },
        "id": "W_RmHL3YlZ4W",
        "outputId": "e6cec8b6-2698-45fd-9df6-c9b9892e3ee0"
      },
      "execution_count": 11,
      "outputs": [
        {
          "output_type": "stream",
          "name": "stdout",
          "text": [
            "Enter the Secret Number: 5\n",
            "Enter the guessing limit: 2\n",
            "Guess: 1\n",
            "Guess: 4\n",
            "Sorry, You Lose!\n"
          ]
        }
      ]
    }
  ]
}